{
 "cells": [
  {
   "cell_type": "markdown",
   "id": "e38871ea",
   "metadata": {},
   "source": [
    "# Implémentation de quelques algorithmes de trading\n",
    "1.Importation des bibliothèques\n",
    "pandas : la manipulation des Datafrmes\n",
    "matplotlib : production des visuels\n",
    "yfinance : vise à résoudre ce problème en offrant un moyen fiable,avec la possibilité de télécharger des données de marché historiques à partir de Yahoo!finance.\n",
    "TA-Lib :est largement utilisée par les développeurs de logiciels de trading nécessitant d'effectuer une analyse technique des données des marchés financiers.\n",
    "\n",
    "\n",
    "Comprend plus de 150 indicateurs tels que ADX, MACD, RSI, stochastique, bandes de Bollinger, etc.\n",
    "\n",
    " \n",
    "\n",
    "Reconnaissance de modèle de chandelier\n",
    "\n",
    "  API open source pour C/C++, Java, Perl, Python et .NET 100 % géré\n",
    "\n",
    "**REMARQUE :** L'installation de cette bibliothèque est un peu laborieuse il est préconisé de suivre les étapes préscrites dans ce tuto : https://blog.quantinsti.com/install-ta-lib-python/"
   ]
  },
  {
   "cell_type": "code",
   "execution_count": 1,
   "id": "93eabc58",
   "metadata": {},
   "outputs": [
    {
     "name": "stdout",
     "output_type": "stream",
     "text": [
      "Requirement already satisfied: yfinance in c:\\users\\hp\\.spss\\lib\\site-packages (0.1.77)\n",
      "Requirement already satisfied: pandas>=0.24.0 in c:\\users\\hp\\.spss\\lib\\site-packages (from yfinance) (1.3.4)\n",
      "Requirement already satisfied: numpy>=1.15 in c:\\users\\hp\\.spss\\lib\\site-packages (from yfinance) (1.20.3)\n",
      "Requirement already satisfied: lxml>=4.5.1 in c:\\users\\hp\\.spss\\lib\\site-packages (from yfinance) (4.6.3)\n",
      "Requirement already satisfied: multitasking>=0.0.7 in c:\\users\\hp\\.spss\\lib\\site-packages (from yfinance) (0.0.11)\n",
      "Requirement already satisfied: requests>=2.26 in c:\\users\\hp\\.spss\\lib\\site-packages (from yfinance) (2.26.0)\n",
      "Requirement already satisfied: appdirs>=1.4.4 in c:\\users\\hp\\.spss\\lib\\site-packages (from yfinance) (1.4.4)\n",
      "Requirement already satisfied: python-dateutil>=2.7.3 in c:\\users\\hp\\.spss\\lib\\site-packages (from pandas>=0.24.0->yfinance) (2.8.2)\n",
      "Requirement already satisfied: pytz>=2017.3 in c:\\users\\hp\\.spss\\lib\\site-packages (from pandas>=0.24.0->yfinance) (2021.3)\n",
      "Requirement already satisfied: six>=1.5 in c:\\users\\hp\\.spss\\lib\\site-packages (from python-dateutil>=2.7.3->pandas>=0.24.0->yfinance) (1.16.0)\n",
      "Requirement already satisfied: certifi>=2017.4.17 in c:\\users\\hp\\.spss\\lib\\site-packages (from requests>=2.26->yfinance) (2022.9.24)\n",
      "Requirement already satisfied: idna<4,>=2.5 in c:\\users\\hp\\.spss\\lib\\site-packages (from requests>=2.26->yfinance) (3.2)\n",
      "Requirement already satisfied: urllib3<1.27,>=1.21.1 in c:\\users\\hp\\.spss\\lib\\site-packages (from requests>=2.26->yfinance) (1.26.7)\n",
      "Requirement already satisfied: charset-normalizer~=2.0.0 in c:\\users\\hp\\.spss\\lib\\site-packages (from requests>=2.26->yfinance) (2.0.4)\n",
      "Note: you may need to restart the kernel to use updated packages.\n"
     ]
    }
   ],
   "source": [
    "pip install yfinance"
   ]
  },
  {
   "cell_type": "code",
   "execution_count": 2,
   "id": "041c4dd8",
   "metadata": {},
   "outputs": [
    {
     "name": "stdout",
     "output_type": "stream",
     "text": [
      "Requirement already satisfied: backtrader in c:\\users\\hp\\.spss\\lib\\site-packages (1.9.76.123)\n",
      "Note: you may need to restart the kernel to use updated packages.\n"
     ]
    }
   ],
   "source": [
    "pip install backtrader"
   ]
  },
  {
   "cell_type": "code",
   "execution_count": 3,
   "id": "51c914bb",
   "metadata": {},
   "outputs": [
    {
     "name": "stdout",
     "output_type": "stream",
     "text": [
      "Note: you may need to restart the kernel to use updated packages.\n"
     ]
    },
    {
     "name": "stderr",
     "output_type": "stream",
     "text": [
      "ERROR: Could not find a version that satisfies the requirement talib (from versions: none)\n",
      "ERROR: No matching distribution found for talib\n"
     ]
    }
   ],
   "source": [
    "pip install talib"
   ]
  },
  {
   "cell_type": "code",
   "execution_count": 4,
   "id": "fb4f0a1e",
   "metadata": {},
   "outputs": [],
   "source": [
    "import talib\n",
    "import yfinance\n",
    "from matplotlib import pyplot as plt\n",
    "import datetime\n",
    "import backtrader as bt"
   ]
  },
  {
   "cell_type": "markdown",
   "id": "96c64342",
   "metadata": {},
   "source": [
    "# L'indicateur RSI"
   ]
  },
  {
   "cell_type": "code",
   "execution_count": 5,
   "id": "2bc5e6c5",
   "metadata": {},
   "outputs": [],
   "source": [
    "import pandas as pd"
   ]
  },
  {
   "cell_type": "code",
   "execution_count": 9,
   "id": "97996be9",
   "metadata": {},
   "outputs": [],
   "source": [
    "data_finance=pd.read_csv('CAC40.csv')"
   ]
  },
  {
   "cell_type": "code",
   "execution_count": 10,
   "id": "0f0f4a61",
   "metadata": {},
   "outputs": [
    {
     "data": {
      "text/html": [
       "<div>\n",
       "<style scoped>\n",
       "    .dataframe tbody tr th:only-of-type {\n",
       "        vertical-align: middle;\n",
       "    }\n",
       "\n",
       "    .dataframe tbody tr th {\n",
       "        vertical-align: top;\n",
       "    }\n",
       "\n",
       "    .dataframe thead th {\n",
       "        text-align: right;\n",
       "    }\n",
       "</style>\n",
       "<table border=\"1\" class=\"dataframe\">\n",
       "  <thead>\n",
       "    <tr style=\"text-align: right;\">\n",
       "      <th></th>\n",
       "      <th>Date</th>\n",
       "      <th>Open</th>\n",
       "      <th>High</th>\n",
       "      <th>Low</th>\n",
       "      <th>Close</th>\n",
       "      <th>Adj Close</th>\n",
       "      <th>Volume</th>\n",
       "    </tr>\n",
       "  </thead>\n",
       "  <tbody>\n",
       "    <tr>\n",
       "      <th>0</th>\n",
       "      <td>2021-10-11</td>\n",
       "      <td>6546.069824</td>\n",
       "      <td>6574.220215</td>\n",
       "      <td>6522.549805</td>\n",
       "      <td>6570.540039</td>\n",
       "      <td>6570.540039</td>\n",
       "      <td>68968500</td>\n",
       "    </tr>\n",
       "    <tr>\n",
       "      <th>1</th>\n",
       "      <td>2021-10-12</td>\n",
       "      <td>6495.149902</td>\n",
       "      <td>6548.109863</td>\n",
       "      <td>6491.580078</td>\n",
       "      <td>6548.109863</td>\n",
       "      <td>6548.109863</td>\n",
       "      <td>69996000</td>\n",
       "    </tr>\n",
       "    <tr>\n",
       "      <th>2</th>\n",
       "      <td>2021-10-13</td>\n",
       "      <td>6539.609863</td>\n",
       "      <td>6606.359863</td>\n",
       "      <td>6510.270020</td>\n",
       "      <td>6597.379883</td>\n",
       "      <td>6597.379883</td>\n",
       "      <td>75938000</td>\n",
       "    </tr>\n",
       "    <tr>\n",
       "      <th>3</th>\n",
       "      <td>2021-10-14</td>\n",
       "      <td>6651.180176</td>\n",
       "      <td>6692.939941</td>\n",
       "      <td>6618.790039</td>\n",
       "      <td>6685.209961</td>\n",
       "      <td>6685.209961</td>\n",
       "      <td>71368900</td>\n",
       "    </tr>\n",
       "    <tr>\n",
       "      <th>4</th>\n",
       "      <td>2021-10-15</td>\n",
       "      <td>6714.259766</td>\n",
       "      <td>6746.810059</td>\n",
       "      <td>6703.259766</td>\n",
       "      <td>6727.520020</td>\n",
       "      <td>6727.520020</td>\n",
       "      <td>84105700</td>\n",
       "    </tr>\n",
       "    <tr>\n",
       "      <th>...</th>\n",
       "      <td>...</td>\n",
       "      <td>...</td>\n",
       "      <td>...</td>\n",
       "      <td>...</td>\n",
       "      <td>...</td>\n",
       "      <td>...</td>\n",
       "      <td>...</td>\n",
       "    </tr>\n",
       "    <tr>\n",
       "      <th>254</th>\n",
       "      <td>2022-10-04</td>\n",
       "      <td>5859.450195</td>\n",
       "      <td>6039.689941</td>\n",
       "      <td>5852.919922</td>\n",
       "      <td>6039.689941</td>\n",
       "      <td>6039.689941</td>\n",
       "      <td>95391900</td>\n",
       "    </tr>\n",
       "    <tr>\n",
       "      <th>255</th>\n",
       "      <td>2022-10-05</td>\n",
       "      <td>6006.120117</td>\n",
       "      <td>6034.930176</td>\n",
       "      <td>5953.549805</td>\n",
       "      <td>5985.459961</td>\n",
       "      <td>5985.459961</td>\n",
       "      <td>75121600</td>\n",
       "    </tr>\n",
       "    <tr>\n",
       "      <th>256</th>\n",
       "      <td>2022-10-06</td>\n",
       "      <td>6004.109863</td>\n",
       "      <td>6018.470215</td>\n",
       "      <td>5917.270020</td>\n",
       "      <td>5936.419922</td>\n",
       "      <td>5936.419922</td>\n",
       "      <td>63735200</td>\n",
       "    </tr>\n",
       "    <tr>\n",
       "      <th>257</th>\n",
       "      <td>2022-10-07</td>\n",
       "      <td>5911.959961</td>\n",
       "      <td>5956.950195</td>\n",
       "      <td>5855.660156</td>\n",
       "      <td>5866.939941</td>\n",
       "      <td>5866.939941</td>\n",
       "      <td>65700300</td>\n",
       "    </tr>\n",
       "    <tr>\n",
       "      <th>258</th>\n",
       "      <td>2022-10-10</td>\n",
       "      <td>5806.569824</td>\n",
       "      <td>5883.850098</td>\n",
       "      <td>5796.310059</td>\n",
       "      <td>5840.549805</td>\n",
       "      <td>5840.549805</td>\n",
       "      <td>0</td>\n",
       "    </tr>\n",
       "  </tbody>\n",
       "</table>\n",
       "<p>259 rows × 7 columns</p>\n",
       "</div>"
      ],
      "text/plain": [
       "           Date         Open         High          Low        Close  \\\n",
       "0    2021-10-11  6546.069824  6574.220215  6522.549805  6570.540039   \n",
       "1    2021-10-12  6495.149902  6548.109863  6491.580078  6548.109863   \n",
       "2    2021-10-13  6539.609863  6606.359863  6510.270020  6597.379883   \n",
       "3    2021-10-14  6651.180176  6692.939941  6618.790039  6685.209961   \n",
       "4    2021-10-15  6714.259766  6746.810059  6703.259766  6727.520020   \n",
       "..          ...          ...          ...          ...          ...   \n",
       "254  2022-10-04  5859.450195  6039.689941  5852.919922  6039.689941   \n",
       "255  2022-10-05  6006.120117  6034.930176  5953.549805  5985.459961   \n",
       "256  2022-10-06  6004.109863  6018.470215  5917.270020  5936.419922   \n",
       "257  2022-10-07  5911.959961  5956.950195  5855.660156  5866.939941   \n",
       "258  2022-10-10  5806.569824  5883.850098  5796.310059  5840.549805   \n",
       "\n",
       "       Adj Close    Volume  \n",
       "0    6570.540039  68968500  \n",
       "1    6548.109863  69996000  \n",
       "2    6597.379883  75938000  \n",
       "3    6685.209961  71368900  \n",
       "4    6727.520020  84105700  \n",
       "..           ...       ...  \n",
       "254  6039.689941  95391900  \n",
       "255  5985.459961  75121600  \n",
       "256  5936.419922  63735200  \n",
       "257  5866.939941  65700300  \n",
       "258  5840.549805         0  \n",
       "\n",
       "[259 rows x 7 columns]"
      ]
     },
     "execution_count": 10,
     "metadata": {},
     "output_type": "execute_result"
    }
   ],
   "source": [
    "data_finance"
   ]
  },
  {
   "cell_type": "code",
   "execution_count": 11,
   "id": "0faf7936",
   "metadata": {},
   "outputs": [
    {
     "name": "stdout",
     "output_type": "stream",
     "text": [
      "<class 'pandas.core.frame.DataFrame'>\n",
      "RangeIndex: 259 entries, 0 to 258\n",
      "Data columns (total 7 columns):\n",
      " #   Column     Non-Null Count  Dtype  \n",
      "---  ------     --------------  -----  \n",
      " 0   Date       259 non-null    object \n",
      " 1   Open       259 non-null    float64\n",
      " 2   High       259 non-null    float64\n",
      " 3   Low        259 non-null    float64\n",
      " 4   Close      259 non-null    float64\n",
      " 5   Adj Close  259 non-null    float64\n",
      " 6   Volume     259 non-null    int64  \n",
      "dtypes: float64(5), int64(1), object(1)\n",
      "memory usage: 14.3+ KB\n"
     ]
    }
   ],
   "source": [
    "data_finance.info()"
   ]
  },
  {
   "cell_type": "code",
   "execution_count": 12,
   "id": "a03b4cee",
   "metadata": {},
   "outputs": [
    {
     "data": {
      "text/html": [
       "<div>\n",
       "<style scoped>\n",
       "    .dataframe tbody tr th:only-of-type {\n",
       "        vertical-align: middle;\n",
       "    }\n",
       "\n",
       "    .dataframe tbody tr th {\n",
       "        vertical-align: top;\n",
       "    }\n",
       "\n",
       "    .dataframe thead th {\n",
       "        text-align: right;\n",
       "    }\n",
       "</style>\n",
       "<table border=\"1\" class=\"dataframe\">\n",
       "  <thead>\n",
       "    <tr style=\"text-align: right;\">\n",
       "      <th></th>\n",
       "      <th>Date</th>\n",
       "      <th>Open</th>\n",
       "      <th>High</th>\n",
       "      <th>Low</th>\n",
       "      <th>Close</th>\n",
       "      <th>Adj Close</th>\n",
       "      <th>Volume</th>\n",
       "    </tr>\n",
       "  </thead>\n",
       "  <tbody>\n",
       "    <tr>\n",
       "      <th>0</th>\n",
       "      <td>2021-10-11</td>\n",
       "      <td>6546.069824</td>\n",
       "      <td>6574.220215</td>\n",
       "      <td>6522.549805</td>\n",
       "      <td>6570.540039</td>\n",
       "      <td>6570.540039</td>\n",
       "      <td>68968500</td>\n",
       "    </tr>\n",
       "    <tr>\n",
       "      <th>1</th>\n",
       "      <td>2021-10-12</td>\n",
       "      <td>6495.149902</td>\n",
       "      <td>6548.109863</td>\n",
       "      <td>6491.580078</td>\n",
       "      <td>6548.109863</td>\n",
       "      <td>6548.109863</td>\n",
       "      <td>69996000</td>\n",
       "    </tr>\n",
       "    <tr>\n",
       "      <th>2</th>\n",
       "      <td>2021-10-13</td>\n",
       "      <td>6539.609863</td>\n",
       "      <td>6606.359863</td>\n",
       "      <td>6510.270020</td>\n",
       "      <td>6597.379883</td>\n",
       "      <td>6597.379883</td>\n",
       "      <td>75938000</td>\n",
       "    </tr>\n",
       "    <tr>\n",
       "      <th>3</th>\n",
       "      <td>2021-10-14</td>\n",
       "      <td>6651.180176</td>\n",
       "      <td>6692.939941</td>\n",
       "      <td>6618.790039</td>\n",
       "      <td>6685.209961</td>\n",
       "      <td>6685.209961</td>\n",
       "      <td>71368900</td>\n",
       "    </tr>\n",
       "    <tr>\n",
       "      <th>4</th>\n",
       "      <td>2021-10-15</td>\n",
       "      <td>6714.259766</td>\n",
       "      <td>6746.810059</td>\n",
       "      <td>6703.259766</td>\n",
       "      <td>6727.520020</td>\n",
       "      <td>6727.520020</td>\n",
       "      <td>84105700</td>\n",
       "    </tr>\n",
       "  </tbody>\n",
       "</table>\n",
       "</div>"
      ],
      "text/plain": [
       "         Date         Open         High          Low        Close  \\\n",
       "0  2021-10-11  6546.069824  6574.220215  6522.549805  6570.540039   \n",
       "1  2021-10-12  6495.149902  6548.109863  6491.580078  6548.109863   \n",
       "2  2021-10-13  6539.609863  6606.359863  6510.270020  6597.379883   \n",
       "3  2021-10-14  6651.180176  6692.939941  6618.790039  6685.209961   \n",
       "4  2021-10-15  6714.259766  6746.810059  6703.259766  6727.520020   \n",
       "\n",
       "     Adj Close    Volume  \n",
       "0  6570.540039  68968500  \n",
       "1  6548.109863  69996000  \n",
       "2  6597.379883  75938000  \n",
       "3  6685.209961  71368900  \n",
       "4  6727.520020  84105700  "
      ]
     },
     "execution_count": 12,
     "metadata": {},
     "output_type": "execute_result"
    }
   ],
   "source": [
    "data_finance.head()"
   ]
  },
  {
   "cell_type": "code",
   "execution_count": 13,
   "id": "95eeae03",
   "metadata": {},
   "outputs": [
    {
     "data": {
      "text/plain": [
       "7320.47998"
      ]
     },
     "execution_count": 13,
     "metadata": {},
     "output_type": "execute_result"
    }
   ],
   "source": [
    "data_finance[\"Open\"].max()"
   ]
  },
  {
   "cell_type": "code",
   "execution_count": 14,
   "id": "4bac2a7d",
   "metadata": {},
   "outputs": [
    {
     "data": {
      "text/plain": [
       "5628.419922"
      ]
     },
     "execution_count": 14,
     "metadata": {},
     "output_type": "execute_result"
    }
   ],
   "source": [
    "data_finance[\"Low\"].min()"
   ]
  },
  {
   "cell_type": "code",
   "execution_count": 15,
   "id": "683b04d2",
   "metadata": {},
   "outputs": [
    {
     "data": {
      "text/plain": [
       "7384.859863"
      ]
     },
     "execution_count": 15,
     "metadata": {},
     "output_type": "execute_result"
    }
   ],
   "source": [
    "data_finance[\"High\"].max()"
   ]
  },
  {
   "cell_type": "code",
   "execution_count": 16,
   "id": "e960b43e",
   "metadata": {},
   "outputs": [
    {
     "data": {
      "text/plain": [
       "6537.410156"
      ]
     },
     "execution_count": 16,
     "metadata": {},
     "output_type": "execute_result"
    }
   ],
   "source": [
    "data_finance[\"Close\"].median()"
   ]
  },
  {
   "cell_type": "code",
   "execution_count": 17,
   "id": "adfa39c4",
   "metadata": {},
   "outputs": [
    {
     "name": "stderr",
     "output_type": "stream",
     "text": [
      "C:\\Users\\hp\\AppData\\Local\\Temp/ipykernel_1924/2168718258.py:1: FutureWarning: Dropping of nuisance columns in DataFrame reductions (with 'numeric_only=None') is deprecated; in a future version this will raise TypeError.  Select only valid columns before calling the reduction.\n",
      "  data_finance.std()\n"
     ]
    },
    {
     "data": {
      "text/plain": [
       "Open         4.134917e+02\n",
       "High         4.041315e+02\n",
       "Low          4.180945e+02\n",
       "Close        4.121345e+02\n",
       "Adj Close    4.121345e+02\n",
       "Volume       3.477940e+07\n",
       "dtype: float64"
      ]
     },
     "execution_count": 17,
     "metadata": {},
     "output_type": "execute_result"
    }
   ],
   "source": [
    "data_finance.std()"
   ]
  },
  {
   "cell_type": "code",
   "execution_count": null,
   "id": "7ca0412f",
   "metadata": {},
   "outputs": [],
   "source": [
    "from datetime import datetime\n",
    "import backtrader as bt\n",
    "from chapter_2_utils import MyBuySell\n",
    "\n",
    "# create a Stratey\n",
    "class RsiSignalStrategy(bt.SignalStrategy):\n",
    "    params = dict(rsi_periods=14, rsi_upper=70, rsi_lower=30, rsi_mid=50)\n",
    "\n",
    "    def __init__(self):\n",
    "\n",
    "        # add RSI indicator\n",
    "        rsi = bt.indicators.RSI(period=self.p.rsi_periods,\n",
    "                                upperband=self.p.rsi_upper,\n",
    "                                lowerband=self.p.rsi_lower)\n",
    "\n",
    "        # add RSI from TA-lib just for reference\n",
    "        bt.talib.RSI(self.data, plotname='TA_RSI')\n",
    "\n",
    "        # long condition (with exit)\n",
    "        rsi_signal_long = bt.ind.CrossUp(rsi, self.p.rsi_lower, plot=False)\n",
    "        self.signal_add(bt.SIGNAL_LONG, rsi_signal_long)\n",
    "        self.signal_add(bt.SIGNAL_LONGEXIT, -(rsi > self.p.rsi_mid))\n",
    "\n",
    "        # short condition (with exit)\n",
    "        rsi_signal_short = -bt.ind.CrossDown(rsi, self.p.rsi_upper, plot=False)\n",
    "        self.signal_add(bt.SIGNAL_SHORT, rsi_signal_short)\n",
    "        self.signal_add(bt.SIGNAL_SHORTEXIT, rsi < self.p.rsi_mid)\n",
    "\n",
    "# create a Data Feed\n",
    "data = bt.feeds.YahooFinanceData(dataname='FB',\n",
    "                                 fromdate=datetime(2018, 1, 1),\n",
    "                                 todate=datetime(2018, 12, 31))\n",
    "\n",
    "# create a Cerebro entity\n",
    "cerebro = bt.Cerebro(stdstats = False)\n",
    "\n",
    "# # set up the backtest\n",
    "cerebro.addstrategy(RsiSignalStrategy)\n",
    "cerebro.adddata(data)\n",
    "cerebro.broker.setcash(1000.0)\n",
    "cerebro.broker.setcommission(commission=0.001)\n",
    "cerebro.addobserver(MyBuySell)\n",
    "cerebro.addobserver(bt.observers.Value)\n",
    "cerebro.run()\n",
    "\n",
    "cerebro.plot(iplot=True, volume=False)"
   ]
  }
 ],
 "metadata": {
  "kernelspec": {
   "display_name": "Python 3 (ipykernel)",
   "language": "python",
   "name": "python3"
  },
  "language_info": {
   "codemirror_mode": {
    "name": "ipython",
    "version": 3
   },
   "file_extension": ".py",
   "mimetype": "text/x-python",
   "name": "python",
   "nbconvert_exporter": "python",
   "pygments_lexer": "ipython3",
   "version": "3.9.7"
  }
 },
 "nbformat": 4,
 "nbformat_minor": 5
}
